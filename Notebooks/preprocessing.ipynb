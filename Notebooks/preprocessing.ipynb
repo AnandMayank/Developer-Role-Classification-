{
 "cells": [
  {
   "cell_type": "markdown",
   "id": "0bec339b",
   "metadata": {},
   "source": [
    "## Data loading and initial inspection\n",
    "\n",
    "### \n",
    "\n",
    "Load the provided dataset into a pandas DataFrame and perform an initial inspection to understand the data structure, types, and missing values.\n"
   ]
  },
  {
   "cell_type": "code",
   "execution_count": null,
   "id": "9ef168b9",
   "metadata": {
    "vscode": {
     "languageId": "plaintext"
    }
   },
   "outputs": [],
   "source": [
    "import pandas as pd\n",
    "\n",
    "# Load the dataset\n",
    "df = pd.read_csv(\"/content/final_dataset.csv\")\n",
    "\n",
    "# Display the first 5 rows\n",
    "print(\"First 5 rows of the DataFrame:\")\n",
    "display(df.head())\n",
    "\n",
    "# Print concise summary\n",
    "print(\"\\nConcise summary of the DataFrame:\")\n",
    "df.info()\n",
    "\n",
    "# Display data types of each column\n",
    "print(\"\\nData types of each column:\")\n",
    "display(df.dtypes)\n",
    "\n",
    "# Count missing values in each column\n",
    "print(\"\\nMissing values per column:\")\n",
    "display(df.isnull().sum())"
   ]
  },
  {
   "cell_type": "markdown",
   "id": "1a6442ac",
   "metadata": {},
   "source": [
    "Identify unique values in the specified columns and apply one-hot encoding to `committype` and `timeofcommit`. Then process `fileextensions` and apply `MultilabelBinarizer`. Finally, concatenate the results and drop the original columns.\n",
    "\n"
   ]
  },
  {
   "cell_type": "code",
   "execution_count": null,
   "id": "b01f2d96",
   "metadata": {
    "vscode": {
     "languageId": "plaintext"
    }
   },
   "outputs": [],
   "source": [
    "from sklearn.preprocessing import MultiLabelBinarizer\n",
    "import numpy as np\n",
    "\n",
    "# Identify unique values\n",
    "print(\"Unique values in 'committype':\", df['committype'].unique())\n",
    "print(\"Unique values in 'timeofcommit':\", df['timeofcommit'].unique())\n",
    "\n",
    "# Process 'fileextensions' to extract individual extensions\n",
    "# Assuming fileextensions are stored as strings representing lists, we need to parse them\n",
    "df['fileextensions_list'] = df['fileextensions'].apply(lambda x: [ext.strip(\"np.str_('\").strip(\"')\") for ext in x.strip(\"[]\").split(\"', '\") if ext])\n",
    "\n",
    "all_extensions = [ext for sublist in df['fileextensions_list'] for ext in sublist]\n",
    "print(\"Unique values in 'fileextensions':\", np.unique(all_extensions))\n",
    "\n",
    "# One-hot encode 'committype' and 'timeofcommit'\n",
    "df_encoded = pd.get_dummies(df, columns=['committype', 'timeofcommit'], drop_first=False)\n",
    "\n",
    "# Applying MultiLabelBinarizer to 'fileextensions_list'\n",
    "mlb = MultiLabelBinarizer()\n",
    "fileextensions_encoded = mlb.fit_transform(df_encoded['fileextensions_list'])\n",
    "fileextensions_df = pd.DataFrame(fileextensions_encoded, columns=[f'fileextension_{cls}' for cls in mlb.classes_])\n",
    "\n",
    "# Concatenate the new features and drop original columns\n",
    "df_processed = pd.concat([df_encoded.drop(columns=['fileextensions', 'fileextensions_list']), fileextensions_df], axis=1)\n",
    "\n",
    "display(df_processed.head())"
   ]
  },
  {
   "cell_type": "markdown",
   "id": "4b4eefcc",
   "metadata": {},
   "source": [
    "## Preprocessing - handling text data\n",
    "\n",
    "### \n",
    "Preprocess the `commitmessage` text data. This will  involve steps like cleaning the text, tokenization, removing stop words, and potentially using techniques like TF-IDF or word embeddings to represent the text numerically.\n"
   ]
  },
  {
   "cell_type": "code",
   "execution_count": null,
   "id": "be2711bb",
   "metadata": {
    "vscode": {
     "languageId": "plaintext"
    }
   },
   "outputs": [],
   "source": [
    "# Download necessary NLTK data\n",
    "import nltk\n",
    "nltk.download('punkt_tab')\n",
    "\n",
    "import re\n",
    "from nltk.corpus import stopwords\n",
    "from nltk.stem import WordNetLemmatizer\n",
    "from sklearn.feature_extraction.text import TfidfVectorizer\n",
    "\n",
    "lemmatizer = WordNetLemmatizer()\n",
    "stop_words = set(stopwords.words('english'))\n",
    "\n",
    "def preprocess_text(text):\n",
    "    \"\"\"\n",
    "    Preprocesses text data by lowercasing, removing punctuation, tokenizing,\n",
    "    removing stop words, and lemmatizing.\n",
    "    \"\"\"\n",
    "    if not isinstance(text, str):\n",
    "        return \"\"\n",
    "    text = text.lower()\n",
    "    text = re.sub(r'[^a-zA-Z\\s]', '', text)\n",
    "    tokens = nltk.word_tokenize(text)\n",
    "    tokens = [word for word in tokens if word not in stop_words]\n",
    "    tokens = [lemmatizer.lemmatize(word) for word in tokens]\n",
    "    return \" \".join(tokens)\n",
    "\n",
    "# Apply the preprocessing function\n",
    "df_processed['commitmessage_processed'] = df_processed['commitmessage'].apply(preprocess_text)\n",
    "\n",
    "# Initialize TfidfVectorizer\n",
    "tfidf_vectorizer = TfidfVectorizer(max_features=1000, ngram_range=(1, 2))\n",
    "\n",
    "# Fit and transform the processed text data\n",
    "tfidf_features = tfidf_vectorizer.fit_transform(df_processed['commitmessage_processed']).toarray()\n",
    "\n",
    "# Convert TF-IDF features to a DataFrame\n",
    "tfidf_df = pd.DataFrame(tfidf_features, columns=[f'tfidf_{i}' for i in range(tfidf_features.shape[1])])\n",
    "\n",
    "# Concatenate TF-IDF features with the existing DataFrame\n",
    "df_processed = pd.concat([df_processed, tfidf_df], axis=1)\n",
    "\n",
    "# Drop the original and intermediate commitmessage columns\n",
    "df_processed = df_processed.drop(columns=['commitmessage', 'commitmessage_processed'])\n",
    "\n",
    "display(df_processed.head())"
   ]
  },
  {
   "cell_type": "markdown",
   "id": "2bc65cbf",
   "metadata": {},
   "source": [
    "## Preprocessing - handling numerical features\n",
    "\n",
    "###\n",
    "Ensure numerical features like `numfileschanged`, `linesadded`, `linesdeleted`, and `numcommentsadded` are in a suitable format for modeling. This might involve scaling or normalization if necessary.\n"
   ]
  },
  {
   "cell_type": "code",
   "execution_count": null,
   "id": "2905bd80",
   "metadata": {
    "vscode": {
     "languageId": "plaintext"
    }
   },
   "outputs": [],
   "source": [
    "from sklearn.preprocessing import StandardScaler\n",
    "\n",
    "# Select numerical columns for scaling\n",
    "numerical_cols = ['numfileschanged', 'linesadded', 'linesdeleted', 'numcommentsadded']\n",
    "df_numerical = df_processed[numerical_cols]\n",
    "\n",
    "# Initialize and fit StandardScaler\n",
    "scaler = StandardScaler()\n",
    "scaled_numerical_data = scaler.fit_transform(df_numerical)\n",
    "\n",
    "# Replace original columns with scaled data\n",
    "df_processed[numerical_cols] = scaled_numerical_data\n",
    "\n",
    "# Display the head of the df_processed DataFrame\n",
    "display(df_processed.head())"
   ]
  }
 ],
 "metadata": {
  "language_info": {
   "name": "python"
  }
 },
 "nbformat": 4,
 "nbformat_minor": 5
}

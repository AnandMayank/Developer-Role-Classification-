{
 "cells": [
  {
   "cell_type": "markdown",
   "id": "73021165",
   "metadata": {},
   "source": [
    "## Exploratory data analysis (eda)\n",
    "\n",
    "###\n",
    "Perform exploratory data analysis to understand the distribution of developer roles, the relationship between features and roles, and identify potential risk factors or biases in the dataset. This will involve visualizations and statistical analysis.\n"
   ]
  },
  {
   "cell_type": "code",
   "execution_count": null,
   "id": "017c965d",
   "metadata": {
    "vscode": {
     "languageId": "plaintext"
    }
   },
   "outputs": [],
   "source": [
    "import matplotlib.pyplot as plt\n",
    "import seaborn as sns\n",
    "import numpy as np\n",
    "\n",
    "# 1. Count occurrences of each unique value in the `role` column\n",
    "role_counts = df_processed['role'].value_counts()\n",
    "print(\"Distribution of Developer Roles:\")\n",
    "display(role_counts)\n",
    "\n",
    "# 2. Calculate descriptive statistics for numerical features for each unique role\n",
    "numerical_cols = ['numfileschanged', 'linesadded', 'linesdeleted', 'numcommentsadded']\n",
    "role_numerical_stats = df_processed.groupby('role')[numerical_cols].describe()\n",
    "print(\"\\nDescriptive Statistics of Numerical Features per Role:\")\n",
    "display(role_numerical_stats)\n",
    "\n",
    "# 3. Generate visualizations for numerical features across different roles\n",
    "print(\"\\nVisualizing Distribution of Numerical Features per Role:\")\n",
    "for col in numerical_cols:\n",
    "    plt.figure(figsize=(10, 6))\n",
    "    sns.boxplot(x='role', y=col, data=df_processed)\n",
    "    plt.title(f'Distribution of {col} by Role')\n",
    "    plt.ylabel(col)\n",
    "    plt.xlabel('Role')\n",
    "    plt.show()\n",
    "\n",
    "# 4. Analyze the distribution of categorical features across different roles\n",
    "# Select categorical columns (excluding original index and role)\n",
    "categorical_cols = df_processed.select_dtypes(include='bool').columns.tolist()\n",
    "\n",
    "print(\"\\nAnalyzing Distribution of Categorical Features per Role:\")\n",
    "for col in categorical_cols:\n",
    "    if 'timeofcommit' in col or 'committype' in col or 'fileextension' in col:\n",
    "        role_category_distribution = df_processed.groupby('role')[col].value_counts(normalize=True).unstack().fillna(0)\n",
    "        print(f\"\\nProportion of {col} per Role:\")\n",
    "        display(role_category_distribution)\n",
    "\n",
    "        # Visualize categorical distribution (can be too many columns for stacked bar)\n",
    "        # If there are only two categories (True/False),we then plot the proportion of True\n",
    "        if role_category_distribution.shape[1] == 2:\n",
    "             role_category_distribution[True].plot(kind='bar', figsize=(10, 6))\n",
    "             plt.title(f'Proportion of {col} (True) by Role')\n",
    "             plt.ylabel('Proportion')\n",
    "             plt.xlabel('Role')\n",
    "             plt.xticks(rotation=45, ha='right')\n",
    "             plt.tight_layout()\n",
    "             plt.show()\n",
    "\n",
    "\n"
   ]
  },
  {
   "cell_type": "markdown",
   "id": "4920f5a7",
   "metadata": {},
   "source": [
    "## Feature engineering\n",
    "\n",
    "###\n",
    "Based on the EDA, creating new features like the length of the processed commit message and extracting day of week and hour of day from 'timeofcommit' could potentially improve model performance. I will also explore creating an interaction term between 'linesadded' and 'linesdeleted' as they seem to have different distributions across roles.\n",
    "\n"
   ]
  },
  {
   "cell_type": "code",
   "execution_count": null,
   "id": "d11ddafc",
   "metadata": {
    "vscode": {
     "languageId": "plaintext"
    }
   },
   "outputs": [],
   "source": [
    "# Create new feature: length of processed commit message\n",
    "df_processed['commitmessage_length'] = df['commitmessage'].apply(lambda x: len(str(x).split()))\n",
    "\n",
    "# Extract day of week and hour of day from 'timeofcommit'\n",
    "df_processed['day_of_week'] = df['timeofcommit'].apply(lambda x: x.split(' ')[0] if isinstance(x, str) else None)\n",
    "df_processed['hour_of_day'] = df['timeofcommit'].apply(lambda x: int(x.split(' ')[1].split(':')[0]) if isinstance(x, str) and len(x.split(' ')) > 1 else None)\n",
    "\n",
    "# One-hot encode 'day_of_week'\n",
    "df_processed = pd.get_dummies(df_processed, columns=['day_of_week'], drop_first=False)\n",
    "\n",
    "# Create an interaction term between 'linesadded' and 'linesdeleted'\n",
    "# These columns are already in df_processed and scaled, so use df_processed\n",
    "df_processed['lines_added_deleted_interaction'] = df_processed['linesadded'] * df_processed['linesdeleted']\n",
    "\n",
    "# Additional Feature Engineering based on EDA:\n",
    "\n",
    "# 1. Ratio of lines added to lines deleted (handle division by zero)\n",
    "# Use scaled numerical columns from df_processed\n",
    "df_processed['lines_added_to_deleted_ratio'] = df_processed.apply(\n",
    "    lambda row: row['linesadded'] / row['linesdeleted'] if row['linesdeleted'] != 0 else 0, axis=1\n",
    ")\n",
    "\n",
    "# 2. Total lines changed\n",
    "# Use scaled numerical columns from df_processed\n",
    "df_processed['total_lines_changed'] = df_processed['linesadded'] + df_processed['linesdeleted']\n",
    "\n",
    "# 3. Presence of specific keywords in commit message (example keywords, can be refined based on text analysis)\n",
    "# Use the original 'df' DataFrame for features derived from original columns\n",
    "keywords = ['fix', 'feat', 'refactor', 'test', 'ui', 'api', 'database']\n",
    "for keyword in keywords:\n",
    "    df_processed[f'msg_has_{keyword}'] = df['commitmessage'].apply(lambda x: 1 if keyword in str(x).lower() else 0)\n",
    "\n",
    "# Display the head of the df_processed DataFrame to show the newly added features\n",
    "display(df_processed.head())"
   ]
  },
  {
   "cell_type": "code",
   "execution_count": null,
   "id": "a29871b3",
   "metadata": {
    "vscode": {
     "languageId": "plaintext"
    }
   },
   "outputs": [],
   "source": []
  }
 ],
 "metadata": {
  "language_info": {
   "name": "python"
  }
 },
 "nbformat": 4,
 "nbformat_minor": 5
}
